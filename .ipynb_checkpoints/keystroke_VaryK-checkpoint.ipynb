{
 "cells": [
  {
   "cell_type": "code",
   "execution_count": 1,
   "metadata": {},
   "outputs": [],
   "source": [
    "from source.util import utils as u\n",
    "from source import metrics, plots\n",
    "from source import handshake2, scargc, hs\n",
    "import sys\n",
    "import time\n",
    "import os\n",
    "import psutil\n",
    "import resource"
   ]
  },
  {
   "cell_type": "code",
   "execution_count": 2,
   "metadata": {},
   "outputs": [],
   "source": [
    "poolsize = 300\n",
    "clusters = 4\n",
    "n_components = 4\n",
    "epsilon = 0.1\n",
    "percent = 30\n",
    "step = 100"
   ]
  },
  {
   "cell_type": "code",
   "execution_count": 3,
   "metadata": {},
   "outputs": [],
   "source": [
    "base = '/home/god/Documentos/tcc/datasets/keystroke.txt'\n",
    "dataset, data_labeled, dataset_train, l_train, stream, l_stream, n_features = u.criar_datasets(5, base)\n"
   ]
  },
  {
   "cell_type": "code",
   "execution_count": 4,
   "metadata": {},
   "outputs": [
    {
     "name": "stdout",
     "output_type": "stream",
     "text": [
      "Tempo de Execução:  17.32714605331421\n",
      "memory peak:  123876\n",
      "Acc:  0.25471428571428567\n",
      "Macro-F1:  0.1\n",
      "MCC:  0.0\n",
      "Desvio Padrão:  0.03625617470282314\n",
      "Numero de atualizações:  1507\n"
     ]
    },
    {
     "name": "stderr",
     "output_type": "stream",
     "text": [
      "/home/god/anaconda3/lib/python3.6/site-packages/sklearn/metrics/classification.py:1135: UndefinedMetricWarning: F-score is ill-defined and being set to 0.0 in labels with no predicted samples.\n",
      "  'precision', 'predicted', average, warn_for)\n",
      "/home/god/anaconda3/lib/python3.6/site-packages/sklearn/metrics/classification.py:538: RuntimeWarning: invalid value encountered in double_scalars\n",
      "  mcc = cov_ytyp / np.sqrt(cov_ytyt * cov_ypyp)\n"
     ]
    }
   ],
   "source": [
    "k = 25\n",
    "    \n",
    "start = time.time()\n",
    "\n",
    "predicted, updt2 = hs.handshake2(dataset, data_labeled, dataset_train, l_train, stream, l_stream, n_components, n_features, epsilon, percent, k)\n",
    "\n",
    "end = time.time()\n",
    "mem2 = resource.getrusage(resource.RUSAGE_SELF).ru_maxrss\n",
    "tempo2 = end - start\n",
    "\n",
    "acc_percent2, f1_per2, mcc_per2 = metrics.makeBatches(l_stream, predicted, len(stream), step)\n",
    "score2, f12, mcc2, std2 = metrics.metrics(acc_percent2, l_stream, predicted, step, f1_type = 'macro')\n",
    "\n",
    "print('Tempo de Execução: ', tempo2)\n",
    "print('memory peak: ', mem2)\n",
    "print('Acc: ', score2)\n",
    "print('Macro-F1: ', f12)\n",
    "print('MCC: ', mcc2)\n",
    "print('Desvio Padrão: ', std2)\n",
    "print('Numero de atualizações: ', updt2)\n",
    "# plots.plotAcc(acc_percent2, 100, '1CDT_Handshake')\n",
    "# plots.plotF1(f1_per2, 100, '1CDT_Handshake')\n",
    "\n",
    "# plots.plotPerBatches(stream, predicted, l_stream, len(stream), step)"
   ]
  },
  {
   "cell_type": "code",
   "execution_count": 5,
   "metadata": {},
   "outputs": [
    {
     "name": "stdout",
     "output_type": "stream",
     "text": [
      "Tempo de Execução:  34.272966146469116\n",
      "memory peak:  124880\n",
      "Acc:  0.27004761904761904\n",
      "Macro-f1:  0.15248199755210326\n",
      "MCC:  0.06725826312757904\n",
      "Desvio Padrão:  0.0798930549344395\n",
      "Numero de atualizações:  1494\n"
     ]
    },
    {
     "name": "stderr",
     "output_type": "stream",
     "text": [
      "/home/god/anaconda3/lib/python3.6/site-packages/sklearn/metrics/classification.py:1135: UndefinedMetricWarning: F-score is ill-defined and being set to 0.0 in labels with no predicted samples.\n",
      "  'precision', 'predicted', average, warn_for)\n",
      "/home/god/anaconda3/lib/python3.6/site-packages/sklearn/metrics/classification.py:538: RuntimeWarning: invalid value encountered in double_scalars\n",
      "  mcc = cov_ytyp / np.sqrt(cov_ytyt * cov_ypyp)\n"
     ]
    }
   ],
   "source": [
    "k = 12\n",
    "    \n",
    "predicted, updt3 = hs.handshake2(dataset, data_labeled, dataset_train, l_train, stream, l_stream, n_components, n_features, epsilon, percent, k)\n",
    "\n",
    "end = time.time()\n",
    "mem3 = resource.getrusage(resource.RUSAGE_SELF).ru_maxrss\n",
    "tempo3 = end - start\n",
    "\n",
    "acc_percent3, f1_per3, mcc_per3 = metrics.makeBatches(l_stream, predicted, len(stream), step)\n",
    "score3, f13, mcc3, std3 = metrics.metrics(acc_percent3, l_stream, predicted, step, f1_type = 'macro')\n",
    "\n",
    "print('Tempo de Execução: ', tempo3)\n",
    "print('memory peak: ', mem3)\n",
    "print('Acc: ', score3)\n",
    "print('Macro-f1: ', f13)\n",
    "print('MCC: ', mcc3)\n",
    "print('Desvio Padrão: ', std3)\n",
    "print('Numero de atualizações: ', updt3)\n",
    "# plots.plotAcc(acc_percent3, 100, '1CDT_Handshake')\n",
    "# plots.plotF1(f1_per3, 100, '1CDT_Handshake')\n",
    "\n",
    "# plots.plotPerBatches(stream, predicted, l_stream, len(stream), step)"
   ]
  },
  {
   "cell_type": "code",
   "execution_count": 6,
   "metadata": {},
   "outputs": [
    {
     "name": "stdout",
     "output_type": "stream",
     "text": [
      "Tempo de Execução:  12.412184476852417\n",
      "memory peak:  125704\n",
      "Acc:  0.30766666666666664\n",
      "Macro-f1:  0.21315421681582128\n",
      "MCC:  0.12268168745977608\n",
      "Desvio Padrão:  0.11273731834599314\n",
      "Numero de atualizações:  1036\n"
     ]
    },
    {
     "name": "stderr",
     "output_type": "stream",
     "text": [
      "/home/god/anaconda3/lib/python3.6/site-packages/sklearn/metrics/classification.py:1135: UndefinedMetricWarning: F-score is ill-defined and being set to 0.0 in labels with no predicted samples.\n",
      "  'precision', 'predicted', average, warn_for)\n",
      "/home/god/anaconda3/lib/python3.6/site-packages/sklearn/metrics/classification.py:538: RuntimeWarning: invalid value encountered in double_scalars\n",
      "  mcc = cov_ytyp / np.sqrt(cov_ytyt * cov_ypyp)\n"
     ]
    }
   ],
   "source": [
    "k = 7\n",
    "    \n",
    "start = time.time()\n",
    "\n",
    "predicted, updt4 = hs.handshake2(dataset, data_labeled, dataset_train, l_train, stream, l_stream, n_components, n_features, epsilon, percent, k)\n",
    "\n",
    "end = time.time()\n",
    "mem4 = resource.getrusage(resource.RUSAGE_SELF).ru_maxrss\n",
    "tempo4 = end - start\n",
    "\n",
    "acc_percent4, f1_per4, mcc_per4 = metrics.makeBatches(l_stream, predicted, len(stream), step)\n",
    "score4, f14, mcc4, std4 = metrics.metrics(acc_percent4, l_stream, predicted, step, f1_type = 'macro')\n",
    "\n",
    "print('Tempo de Execução: ', tempo4)\n",
    "print('memory peak: ', mem4)\n",
    "print('Acc: ', score4)\n",
    "print('Macro-f1: ', f14)\n",
    "print('MCC: ', mcc4)\n",
    "print('Desvio Padrão: ', std4)\n",
    "print('Numero de atualizações: ', updt4)\n",
    "# plots.plotAcc(acc_percent4, 100, '1CDT_Handshake')\n",
    "# plots.plotF1(f1_per4, 100, '1CDT_Handshake')\n",
    "\n",
    "# plots.plotPerBatches(stream, predicted, l_stream, len(stream), step)"
   ]
  },
  {
   "cell_type": "code",
   "execution_count": 7,
   "metadata": {},
   "outputs": [
    {
     "name": "stdout",
     "output_type": "stream",
     "text": [
      "Tempo de Execução:  1.9789011478424072\n",
      "memory peak:  127472\n",
      "Acc:  0.49666666666666665\n",
      "Macro-f1:  0.4346666500155516\n",
      "MCC:  0.3628589230752329\n",
      "Desvio Padrão:  0.17384344091772166\n",
      "Numero de atualizações:  4\n"
     ]
    },
    {
     "name": "stderr",
     "output_type": "stream",
     "text": [
      "/home/god/anaconda3/lib/python3.6/site-packages/sklearn/metrics/classification.py:1135: UndefinedMetricWarning: F-score is ill-defined and being set to 0.0 in labels with no predicted samples.\n",
      "  'precision', 'predicted', average, warn_for)\n"
     ]
    }
   ],
   "source": [
    "k = 1\n",
    "    \n",
    "start = time.time()\n",
    "\n",
    "predicted, updt5 = hs.handshake2(dataset, data_labeled, dataset_train, l_train, stream, l_stream, n_components, n_features, epsilon, percent, k)\n",
    "\n",
    "end = time.time()\n",
    "mem5 = resource.getrusage(resource.RUSAGE_SELF).ru_maxrss\n",
    "tempo5 = end - start\n",
    "\n",
    "acc_percent5, f1_per5, mcc_per5 = metrics.makeBatches(l_stream, predicted, len(stream), step)\n",
    "score5, f15, mcc5, std5 = metrics.metrics(acc_percent5, l_stream, predicted, step, f1_type = 'macro')\n",
    "\n",
    "print('Tempo de Execução: ', tempo5)\n",
    "print('memory peak: ', mem5)\n",
    "print('Acc: ', score5)\n",
    "print('Macro-f1: ', f15)\n",
    "print('MCC: ', mcc5)\n",
    "print('Desvio Padrão: ', std5)\n",
    "print('Numero de atualizações: ', updt5)\n",
    "# plots.plotAcc(acc_percent5, 100, '1CDT_Handshake')\n",
    "# plots.plotF1(f1_per5, 100, '1CDT_Handshake')\n",
    "\n",
    "# plots.plotPerBatches(stream, predicted, l_stream, len(stream), step)"
   ]
  },
  {
   "cell_type": "code",
   "execution_count": null,
   "metadata": {},
   "outputs": [
    {
     "ename": "NameError",
     "evalue": "name 'temp5' is not defined",
     "output_type": "error",
     "traceback": [
      "\u001b[0;31m---------------------------------------------------------------------------\u001b[0m",
      "\u001b[0;31mNameError\u001b[0m                                 Traceback (most recent call last)",
      "\u001b[0;32m<ipython-input-8-f486d057c59f>\u001b[0m in \u001b[0;36m<module>\u001b[0;34m()\u001b[0m\n\u001b[0;32m----> 1\u001b[0;31m \u001b[0mlistTime\u001b[0m \u001b[0;34m=\u001b[0m \u001b[0;34m[\u001b[0m\u001b[0mtempo2\u001b[0m\u001b[0;34m,\u001b[0m \u001b[0mtempo3\u001b[0m\u001b[0;34m,\u001b[0m \u001b[0mtempo4\u001b[0m\u001b[0;34m,\u001b[0m \u001b[0mtemp5\u001b[0m\u001b[0;34m]\u001b[0m\u001b[0;34m\u001b[0m\u001b[0m\n\u001b[0m\u001b[1;32m      2\u001b[0m \u001b[0mlistAcc\u001b[0m \u001b[0;34m=\u001b[0m \u001b[0;34m[\u001b[0m\u001b[0mscore2\u001b[0m\u001b[0;34m,\u001b[0m \u001b[0mscore3\u001b[0m\u001b[0;34m,\u001b[0m \u001b[0mscore4\u001b[0m\u001b[0;34m,\u001b[0m \u001b[0mscore5\u001b[0m\u001b[0;34m]\u001b[0m\u001b[0;34m\u001b[0m\u001b[0m\n\u001b[1;32m      3\u001b[0m \u001b[0mlistMethod\u001b[0m \u001b[0;34m=\u001b[0m \u001b[0;34m[\u001b[0m \u001b[0;34m'Handshake25'\u001b[0m\u001b[0;34m,\u001b[0m \u001b[0;34m'Handshake12'\u001b[0m\u001b[0;34m,\u001b[0m \u001b[0;34m'Handshake7'\u001b[0m\u001b[0;34m,\u001b[0m \u001b[0;34m'Handshake1'\u001b[0m\u001b[0;34m]\u001b[0m\u001b[0;34m\u001b[0m\u001b[0m\n\u001b[1;32m      4\u001b[0m \u001b[0mmatrixAcc\u001b[0m \u001b[0;34m=\u001b[0m \u001b[0;34m[\u001b[0m\u001b[0macc_percent2\u001b[0m\u001b[0;34m[\u001b[0m\u001b[0;36m0\u001b[0m\u001b[0;34m]\u001b[0m\u001b[0;34m,\u001b[0m \u001b[0macc_percent3\u001b[0m\u001b[0;34m[\u001b[0m\u001b[0;36m0\u001b[0m\u001b[0;34m]\u001b[0m\u001b[0;34m,\u001b[0m \u001b[0macc_percent4\u001b[0m\u001b[0;34m[\u001b[0m\u001b[0;36m0\u001b[0m\u001b[0;34m]\u001b[0m\u001b[0;34m,\u001b[0m \u001b[0macc_percent5\u001b[0m\u001b[0;34m[\u001b[0m\u001b[0;36m0\u001b[0m\u001b[0;34m]\u001b[0m\u001b[0;34m]\u001b[0m\u001b[0;34m\u001b[0m\u001b[0m\n\u001b[1;32m      5\u001b[0m \u001b[0mmatrixF1\u001b[0m \u001b[0;34m=\u001b[0m \u001b[0;34m[\u001b[0m \u001b[0mf1_per2\u001b[0m\u001b[0;34m[\u001b[0m\u001b[0;36m0\u001b[0m\u001b[0;34m]\u001b[0m\u001b[0;34m,\u001b[0m \u001b[0mf1_per3\u001b[0m\u001b[0;34m[\u001b[0m\u001b[0;36m0\u001b[0m\u001b[0;34m]\u001b[0m\u001b[0;34m,\u001b[0m \u001b[0mf1_per4\u001b[0m\u001b[0;34m[\u001b[0m\u001b[0;36m0\u001b[0m\u001b[0;34m]\u001b[0m\u001b[0;34m,\u001b[0m \u001b[0mf1_per5\u001b[0m\u001b[0;34m[\u001b[0m\u001b[0;36m0\u001b[0m\u001b[0;34m]\u001b[0m\u001b[0;34m]\u001b[0m\u001b[0;34m\u001b[0m\u001b[0m\n",
      "\u001b[0;31mNameError\u001b[0m: name 'temp5' is not defined"
     ]
    }
   ],
   "source": [
    "listTime = [tempo2, tempo3, tempo4, temp5]\n",
    "listAcc = [score2, score3, score4, score5]\n",
    "listMethod = [ 'Handshake25', 'Handshake12', 'Handshake7', 'Handshake1']\n",
    "matrixAcc = [acc_percent2[0], acc_percent3[0], acc_percent4[0], acc_percent5[0]]\n",
    "matrixF1 = [ f1_per2[0], f1_per3[0], f1_per4[0], f1_per5[0]]\n",
    "\n"
   ]
  },
  {
   "cell_type": "code",
   "execution_count": null,
   "metadata": {},
   "outputs": [],
   "source": [
    "plots.plotTime(listTime, listMethod)\n",
    "plots.plotAverageAcc(listAcc, listMethod)\n",
    "plots.plotAccuracyCurves(matrixAcc, listMethod, step)\n",
    "plots.plotBoxplot('acc', matrixAcc, listMethod)\n",
    "plots.plotBoxplot('f1', matrixF1, listMethod)"
   ]
  },
  {
   "cell_type": "code",
   "execution_count": null,
   "metadata": {},
   "outputs": [],
   "source": []
  }
 ],
 "metadata": {
  "kernelspec": {
   "display_name": "Python 3",
   "language": "python",
   "name": "python3"
  },
  "language_info": {
   "codemirror_mode": {
    "name": "ipython",
    "version": 3
   },
   "file_extension": ".py",
   "mimetype": "text/x-python",
   "name": "python",
   "nbconvert_exporter": "python",
   "pygments_lexer": "ipython3",
   "version": "3.6.5"
  }
 },
 "nbformat": 4,
 "nbformat_minor": 2
}
