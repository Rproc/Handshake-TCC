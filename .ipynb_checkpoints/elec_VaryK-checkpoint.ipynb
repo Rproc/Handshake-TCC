{
 "cells": [
  {
   "cell_type": "code",
   "execution_count": 1,
   "metadata": {},
   "outputs": [],
   "source": [
    "from source.util import utils as u\n",
    "from source import metrics, plots\n",
    "from source import handshake2, scargc, hs\n",
    "import sys\n",
    "import time\n",
    "import os\n",
    "import psutil\n",
    "import resource"
   ]
  },
  {
   "cell_type": "code",
   "execution_count": 2,
   "metadata": {},
   "outputs": [],
   "source": [
    "poolsize = 300\n",
    "clusters = 2\n",
    "n_components = 2\n",
    "epsilon = 0.15\n",
    "percent = 20\n",
    "step = 100"
   ]
  },
  {
   "cell_type": "code",
   "execution_count": 3,
   "metadata": {},
   "outputs": [],
   "source": [
    "base = '/home/god/Documentos/tcc/datasets/elec.txt'\n",
    "dataset, data_labeled, dataset_train, l_train, stream, l_stream, n_features = u.criar_datasets(5, base)\n"
   ]
  },
  {
   "cell_type": "code",
   "execution_count": 4,
   "metadata": {},
   "outputs": [
    {
     "ename": "ValueError",
     "evalue": "all the input array dimensions except for the concatenation axis must match exactly",
     "output_type": "error",
     "traceback": [
      "\u001b[0;31m---------------------------------------------------------------------------\u001b[0m",
      "\u001b[0;31mValueError\u001b[0m                                Traceback (most recent call last)",
      "\u001b[0;32m<ipython-input-4-0e585ccaff72>\u001b[0m in \u001b[0;36m<module>\u001b[0;34m()\u001b[0m\n\u001b[1;32m      4\u001b[0m \u001b[0mstart\u001b[0m \u001b[0;34m=\u001b[0m \u001b[0mtime\u001b[0m\u001b[0;34m.\u001b[0m\u001b[0mtime\u001b[0m\u001b[0;34m(\u001b[0m\u001b[0;34m)\u001b[0m\u001b[0;34m\u001b[0m\u001b[0m\n\u001b[1;32m      5\u001b[0m \u001b[0;34m\u001b[0m\u001b[0m\n\u001b[0;32m----> 6\u001b[0;31m \u001b[0mpredicted\u001b[0m\u001b[0;34m,\u001b[0m \u001b[0mupdt1\u001b[0m \u001b[0;34m=\u001b[0m \u001b[0mhs\u001b[0m\u001b[0;34m.\u001b[0m\u001b[0mhandshake2\u001b[0m\u001b[0;34m(\u001b[0m\u001b[0mdataset\u001b[0m\u001b[0;34m,\u001b[0m \u001b[0mdata_labeled\u001b[0m\u001b[0;34m,\u001b[0m \u001b[0mdataset_train\u001b[0m\u001b[0;34m,\u001b[0m \u001b[0ml_train\u001b[0m\u001b[0;34m,\u001b[0m \u001b[0mstream\u001b[0m\u001b[0;34m,\u001b[0m \u001b[0ml_stream\u001b[0m\u001b[0;34m,\u001b[0m \u001b[0mn_components\u001b[0m\u001b[0;34m,\u001b[0m \u001b[0mn_features\u001b[0m\u001b[0;34m,\u001b[0m \u001b[0mepsilon\u001b[0m\u001b[0;34m,\u001b[0m \u001b[0mpercent\u001b[0m\u001b[0;34m,\u001b[0m \u001b[0mk\u001b[0m\u001b[0;34m)\u001b[0m\u001b[0;34m\u001b[0m\u001b[0m\n\u001b[0m\u001b[1;32m      7\u001b[0m \u001b[0;34m\u001b[0m\u001b[0m\n\u001b[1;32m      8\u001b[0m \u001b[0mend\u001b[0m \u001b[0;34m=\u001b[0m \u001b[0mtime\u001b[0m\u001b[0;34m.\u001b[0m\u001b[0mtime\u001b[0m\u001b[0;34m(\u001b[0m\u001b[0;34m)\u001b[0m\u001b[0;34m\u001b[0m\u001b[0m\n",
      "\u001b[0;32m~/Documentos/tcc/source/hs.py\u001b[0m in \u001b[0;36mhandshake2\u001b[0;34m(dataset, data_labeled, d_treino, l_train, stream, l_stream, num_components, n_features, episilon, percent_init, k)\u001b[0m\n\u001b[1;32m    167\u001b[0m                         \u001b[0;32mif\u001b[0m \u001b[0mmore_elements\u001b[0m\u001b[0;34m[\u001b[0m\u001b[0melem\u001b[0m\u001b[0;34m]\u001b[0m \u001b[0;34m==\u001b[0m \u001b[0;36m1\u001b[0m\u001b[0;34m:\u001b[0m\u001b[0;34m\u001b[0m\u001b[0m\n\u001b[1;32m    168\u001b[0m                             \u001b[0mvalue\u001b[0m \u001b[0;34m=\u001b[0m \u001b[0mpool_mix\u001b[0m\u001b[0;34m[\u001b[0m\u001b[0melem\u001b[0m\u001b[0;34m]\u001b[0m\u001b[0;34m\u001b[0m\u001b[0m\n\u001b[0;32m--> 169\u001b[0;31m                             \u001b[0minicial_pool\u001b[0m \u001b[0;34m=\u001b[0m \u001b[0mnp\u001b[0m\u001b[0;34m.\u001b[0m\u001b[0mvstack\u001b[0m\u001b[0;34m(\u001b[0m\u001b[0;34m[\u001b[0m\u001b[0minicial_pool\u001b[0m\u001b[0;34m,\u001b[0m \u001b[0mvalue\u001b[0m\u001b[0;34m[\u001b[0m\u001b[0;34m(\u001b[0m\u001b[0msome_percent\u001b[0m \u001b[0;34m+\u001b[0m \u001b[0;36m1\u001b[0m\u001b[0;34m)\u001b[0m\u001b[0;34m:\u001b[0m\u001b[0;34m(\u001b[0m\u001b[0msome_percent\u001b[0m \u001b[0;34m+\u001b[0m \u001b[0mtam\u001b[0m\u001b[0;34m)\u001b[0m\u001b[0;34m]\u001b[0m\u001b[0;34m]\u001b[0m\u001b[0;34m)\u001b[0m\u001b[0;34m\u001b[0m\u001b[0m\n\u001b[0m\u001b[1;32m    170\u001b[0m \u001b[0;34m\u001b[0m\u001b[0m\n\u001b[1;32m    171\u001b[0m                 \u001b[0mpool\u001b[0m \u001b[0;34m=\u001b[0m \u001b[0;34m[\u001b[0m\u001b[0;34m]\u001b[0m\u001b[0;34m\u001b[0m\u001b[0m\n",
      "\u001b[0;32m~/anaconda3/lib/python3.6/site-packages/numpy/core/shape_base.py\u001b[0m in \u001b[0;36mvstack\u001b[0;34m(tup)\u001b[0m\n\u001b[1;32m    232\u001b[0m \u001b[0;34m\u001b[0m\u001b[0m\n\u001b[1;32m    233\u001b[0m     \"\"\"\n\u001b[0;32m--> 234\u001b[0;31m     \u001b[0;32mreturn\u001b[0m \u001b[0m_nx\u001b[0m\u001b[0;34m.\u001b[0m\u001b[0mconcatenate\u001b[0m\u001b[0;34m(\u001b[0m\u001b[0;34m[\u001b[0m\u001b[0matleast_2d\u001b[0m\u001b[0;34m(\u001b[0m\u001b[0m_m\u001b[0m\u001b[0;34m)\u001b[0m \u001b[0;32mfor\u001b[0m \u001b[0m_m\u001b[0m \u001b[0;32min\u001b[0m \u001b[0mtup\u001b[0m\u001b[0;34m]\u001b[0m\u001b[0;34m,\u001b[0m \u001b[0;36m0\u001b[0m\u001b[0;34m)\u001b[0m\u001b[0;34m\u001b[0m\u001b[0m\n\u001b[0m\u001b[1;32m    235\u001b[0m \u001b[0;34m\u001b[0m\u001b[0m\n\u001b[1;32m    236\u001b[0m \u001b[0;32mdef\u001b[0m \u001b[0mhstack\u001b[0m\u001b[0;34m(\u001b[0m\u001b[0mtup\u001b[0m\u001b[0;34m)\u001b[0m\u001b[0;34m:\u001b[0m\u001b[0;34m\u001b[0m\u001b[0m\n",
      "\u001b[0;31mValueError\u001b[0m: all the input array dimensions except for the concatenation axis must match exactly"
     ]
    }
   ],
   "source": [
    "array_k = [50, 25, 12, 7]\n",
    "k = 50\n",
    "    \n",
    "start = time.time()\n",
    "\n",
    "predicted, updt1 = hs.handshake2(dataset, data_labeled, dataset_train, l_train, stream, l_stream, n_components, n_features, epsilon, percent, k)\n",
    "\n",
    "end = time.time()\n",
    "mem1 = resource.getrusage(resource.RUSAGE_SELF).ru_maxrss\n",
    "tempo1 = end - start\n",
    "\n",
    "acc_percent1, f1_per1, mcc_per1 = metrics.makeBatches(l_stream, predicted, len(stream), step)\n",
    "score1, f11, mcc1, std1 = metrics.metrics(acc_percent1, l_stream, predicted, step, f1_type = 'macro')\n",
    "\n",
    "print('Tempo de Execução: ', tempo1)\n",
    "print('memory peak: ', mem1)\n",
    "print('Acc: ', score1)\n",
    "print('Macro-F1: ', f11)\n",
    "print('MCC: ', mcc1)\n",
    "print('Desvio Padrão: ', std1)\n",
    "print('Numero de atualizações: ', updt1)\n",
    "# plots.plotAcc(acc_percent1, 100, '1CDT_Handshake')\n",
    "# plots.plotF1(f1_per1, 100, '1CDT_Handshake')\n",
    "\n",
    "# plots.plotPerBatches(stream, predicted, l_stream, len(stream), step)"
   ]
  },
  {
   "cell_type": "code",
   "execution_count": null,
   "metadata": {},
   "outputs": [],
   "source": [
    "k = 25\n",
    "    \n",
    "start = time.time()\n",
    "\n",
    "predicted, updt2 = hs.handshake2(dataset, data_labeled, dataset_train, l_train, stream, l_stream, n_components, n_features, epsilon, percent, k)\n",
    "\n",
    "end = time.time()\n",
    "mem2 = resource.getrusage(resource.RUSAGE_SELF).ru_maxrss\n",
    "tempo2 = end - start\n",
    "\n",
    "acc_percent2, f1_per2, mcc_per2 = metrics.makeBatches(l_stream, predicted, len(stream), step)\n",
    "score2, f12, mcc2, std2 = metrics.metrics(acc_percent2, l_stream, predicted, step, f1_type = 'macro')\n",
    "\n",
    "print('Tempo de Execução: ', tempo2)\n",
    "print('memory peak: ', mem2)\n",
    "print('Acc: ', score2)\n",
    "print('Macro-F1: ', f12)\n",
    "print('MCC: ', mcc2)\n",
    "print('Desvio Padrão: ', std2)\n",
    "print('Numero de atualizações: ', updt2)\n",
    "# plots.plotAcc(acc_percent2, 100, '1CDT_Handshake')\n",
    "# plots.plotF1(f1_per2, 100, '1CDT_Handshake')\n",
    "\n",
    "# plots.plotPerBatches(stream, predicted, l_stream, len(stream), step)"
   ]
  },
  {
   "cell_type": "code",
   "execution_count": null,
   "metadata": {},
   "outputs": [],
   "source": [
    "k = 12\n",
    "    \n",
    "predicted, updt3 = hs.handshake2(dataset, data_labeled, dataset_train, l_train, stream, l_stream, n_components, n_features, epsilon, percent, k)\n",
    "\n",
    "end = time.time()\n",
    "mem3 = resource.getrusage(resource.RUSAGE_SELF).ru_maxrss\n",
    "tempo3 = end - start\n",
    "\n",
    "acc_percent3, f1_per3, mcc_per3 = metrics.makeBatches(l_stream, predicted, len(stream), step)\n",
    "score3, f13, mcc3, std3 = metrics.metrics(acc_percent3, l_stream, predicted, step, f1_type = 'macro')\n",
    "\n",
    "print('Tempo de Execução: ', tempo3)\n",
    "print('memory peak: ', mem3)\n",
    "print('Acc: ', score3)\n",
    "print('Macro-f1: ', f13)\n",
    "print('MCC: ', mcc3)\n",
    "print('Desvio Padrão: ', std3)\n",
    "print('Numero de atualizações: ', updt3)\n",
    "# plots.plotAcc(acc_percent3, 100, '1CDT_Handshake')\n",
    "# plots.plotF1(f1_per3, 100, '1CDT_Handshake')\n",
    "\n",
    "# plots.plotPerBatches(stream, predicted, l_stream, len(stream), step)"
   ]
  },
  {
   "cell_type": "code",
   "execution_count": null,
   "metadata": {},
   "outputs": [],
   "source": [
    "k = 7\n",
    "    \n",
    "start = time.time()\n",
    "\n",
    "predicted, updt4 = hs.handshake2(dataset, data_labeled, dataset_train, l_train, stream, l_stream, n_components, n_features, epsilon, percent, k)\n",
    "\n",
    "end = time.time()\n",
    "mem4 = resource.getrusage(resource.RUSAGE_SELF).ru_maxrss\n",
    "tempo4 = end - start\n",
    "\n",
    "acc_percent4, f1_per4, mcc_per4 = metrics.makeBatches(l_stream, predicted, len(stream), step)\n",
    "score4, f14, mcc4, std4 = metrics.metrics(acc_percent4, l_stream, predicted, step, f1_type = 'macro')\n",
    "\n",
    "print('Tempo de Execução: ', tempo4)\n",
    "print('memory peak: ', mem4)\n",
    "print('Acc: ', score4)\n",
    "print('Macro-f1: ', f14)\n",
    "print('MCC: ', mcc4)\n",
    "print('Desvio Padrão: ', std4)\n",
    "print('Numero de atualizações: ', updt4)\n",
    "# plots.plotAcc(acc_percent4, 100, '1CDT_Handshake')\n",
    "# plots.plotF1(f1_per4, 100, '1CDT_Handshake')\n",
    "\n",
    "# plots.plotPerBatches(stream, predicted, l_stream, len(stream), step)"
   ]
  },
  {
   "cell_type": "code",
   "execution_count": null,
   "metadata": {},
   "outputs": [],
   "source": [
    "listTime = [tempo1, tempo2, tempo3, tempo4]\n",
    "listAcc = [score1, score2, score3, score4]\n",
    "listMethod = ['Handshake50', 'Handshake25', 'Handshake12', 'Handshake7']\n",
    "matrixAcc = [acc_percent1[0], acc_percent2[0], acc_percent3[0], acc_percent4[0]]\n",
    "matrixF1 = [f1_per1[0], f1_per2[0], f1_per3[0], f1_per4[0]]\n",
    "\n"
   ]
  },
  {
   "cell_type": "code",
   "execution_count": null,
   "metadata": {},
   "outputs": [],
   "source": [
    "plots.plotTime(listTime, listMethod)\n",
    "plots.plotAverageAcc(listAcc, listMethod)\n",
    "plots.plotAccuracyCurves(matrixAcc, listMethod, step)\n",
    "plots.plotBoxplot('acc', matrixAcc, listMethod)\n",
    "plots.plotBoxplot('f1', matrixF1, listMethod)"
   ]
  },
  {
   "cell_type": "code",
   "execution_count": null,
   "metadata": {},
   "outputs": [],
   "source": []
  }
 ],
 "metadata": {
  "kernelspec": {
   "display_name": "Python 3",
   "language": "python",
   "name": "python3"
  },
  "language_info": {
   "codemirror_mode": {
    "name": "ipython",
    "version": 3
   },
   "file_extension": ".py",
   "mimetype": "text/x-python",
   "name": "python",
   "nbconvert_exporter": "python",
   "pygments_lexer": "ipython3",
   "version": "3.6.5"
  }
 },
 "nbformat": 4,
 "nbformat_minor": 2
}
