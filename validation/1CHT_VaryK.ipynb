{
 "cells": [
  {
   "cell_type": "code",
   "execution_count": 1,
   "metadata": {},
   "outputs": [],
   "source": [
    "from source.util import utils as u\n",
    "from source import metrics, plots\n",
    "from source import handshake2, scargc, hs\n",
    "import sys\n",
    "import time\n",
    "import os\n",
    "import psutil\n",
    "import resource"
   ]
  },
  {
   "cell_type": "code",
   "execution_count": 2,
   "metadata": {},
   "outputs": [],
   "source": [
    "poolsize = 150\n",
    "clusters = 2\n",
    "n_components = 2\n",
    "epsilon = 0.05\n",
    "percent = 10\n",
    "step = 100"
   ]
  },
  {
   "cell_type": "code",
   "execution_count": 3,
   "metadata": {},
   "outputs": [],
   "source": [
    "base = '/home/god/Documentos/tcc/datasets/1CHT.txt'\n",
    "dataset, data_labeled, dataset_train, l_train, stream, l_stream, n_features = u.criar_datasets(5, base)\n"
   ]
  },
  {
   "cell_type": "code",
   "execution_count": 4,
   "metadata": {},
   "outputs": [],
   "source": [
    "# array_k = [50, 25, 12, 7]\n",
    "# k = 50\n",
    "    \n",
    "# start = time.time()\n",
    "\n",
    "# predicted, updt1 = hs.handshake2(dataset, data_labeled, dataset_train, l_train, stream, l_stream, n_components, n_features, epsilon, percent, k)\n",
    "\n",
    "# end = time.time()\n",
    "# mem1 = resource.getrusage(resource.RUSAGE_SELF).ru_maxrss\n",
    "# tempo1 = end - start\n",
    "\n",
    "# acc_percent1, f1_per1, mcc_per1 = metrics.makeBatches(l_stream, predicted, len(stream), step)\n",
    "# score1, f11, mcc1, std1 = metrics.metrics(acc_percent1, l_stream, predicted, step, f1_type = 'macro')\n",
    "\n",
    "# print('Tempo de Execução: ', tempo1)\n",
    "# print('memory peak: ', mem1)\n",
    "# print('Acc: ', score1)\n",
    "# print('Macro-F1: ', f11)\n",
    "# print('MCC: ', mcc1)\n",
    "# print('Desvio Padrão: ', std1)\n",
    "# print('Numero de atualizações: ', updt1)\n",
    "# plots.plotAcc(acc_percent1, 100, '1CDT_Handshake')\n",
    "# plots.plotF1(f1_per1, 100, '1CDT_Handshake')\n",
    "\n",
    "# plots.plotPerBatches(stream, predicted, l_stream, len(stream), step)"
   ]
  },
  {
   "cell_type": "code",
   "execution_count": 5,
   "metadata": {},
   "outputs": [
    {
     "name": "stdout",
     "output_type": "stream",
     "text": [
      "Tempo de Execução:  27.26591467857361\n",
      "memory peak:  131888\n",
      "Acc:  0.9933809689787384\n",
      "Macro-F1:  0.9934209050119962\n",
      "MCC:  0.986886393125508\n",
      "Desvio Padrão:  0.01963736299241383\n",
      "Numero de atualizações:  465\n"
     ]
    }
   ],
   "source": [
    "k = 25\n",
    "    \n",
    "start = time.time()\n",
    "\n",
    "predicted, updt2 = hs.handshake2(dataset, data_labeled, dataset_train, l_train, stream, l_stream, n_components, n_features, epsilon, percent, k)\n",
    "\n",
    "end = time.time()\n",
    "mem2 = resource.getrusage(resource.RUSAGE_SELF).ru_maxrss\n",
    "tempo2 = end - start\n",
    "\n",
    "acc_percent2, f1_per2, mcc_per2 = metrics.makeBatches(l_stream, predicted, len(stream), step)\n",
    "score2, f12, mcc2, std2 = metrics.metrics(acc_percent2, l_stream, predicted, step, f1_type = 'macro')\n",
    "\n",
    "print('Tempo de Execução: ', tempo2)\n",
    "print('memory peak: ', mem2)\n",
    "print('Acc: ', score2)\n",
    "print('Macro-F1: ', f12)\n",
    "print('MCC: ', mcc2)\n",
    "print('Desvio Padrão: ', std2)\n",
    "print('Numero de atualizações: ', updt2)\n",
    "# plots.plotAcc(acc_percent2, 100, '1CDT_Handshake')\n",
    "# plots.plotF1(f1_per2, 100, '1CDT_Handshake')\n",
    "\n",
    "# plots.plotPerBatches(stream, predicted, l_stream, len(stream), step)"
   ]
  },
  {
   "cell_type": "code",
   "execution_count": 6,
   "metadata": {},
   "outputs": [
    {
     "name": "stdout",
     "output_type": "stream",
     "text": [
      "Tempo de Execução:  52.65676760673523\n",
      "memory peak:  140460\n",
      "Acc:  0.9932480829557339\n",
      "Macro-f1:  0.9932893759758517\n",
      "MCC:  0.9866076782942859\n",
      "Desvio Padrão:  0.02169732209994636\n",
      "Numero de atualizações:  347\n"
     ]
    }
   ],
   "source": [
    "k = 12\n",
    "    \n",
    "predicted, updt3 = hs.handshake2(dataset, data_labeled, dataset_train, l_train, stream, l_stream, n_components, n_features, epsilon, percent, k)\n",
    "\n",
    "end = time.time()\n",
    "mem3 = resource.getrusage(resource.RUSAGE_SELF).ru_maxrss\n",
    "tempo3 = end - start\n",
    "\n",
    "acc_percent3, f1_per3, mcc_per3 = metrics.makeBatches(l_stream, predicted, len(stream), step)\n",
    "score3, f13, mcc3, std3 = metrics.metrics(acc_percent3, l_stream, predicted, step, f1_type = 'macro')\n",
    "\n",
    "print('Tempo de Execução: ', tempo3)\n",
    "print('memory peak: ', mem3)\n",
    "print('Acc: ', score3)\n",
    "print('Macro-f1: ', f13)\n",
    "print('MCC: ', mcc3)\n",
    "print('Desvio Padrão: ', std3)\n",
    "print('Numero de atualizações: ', updt3)\n",
    "# plots.plotAcc(acc_percent3, 100, '1CDT_Handshake')\n",
    "# plots.plotF1(f1_per3, 100, '1CDT_Handshake')\n",
    "\n",
    "# plots.plotPerBatches(stream, predicted, l_stream, len(stream), step)"
   ]
  },
  {
   "cell_type": "code",
   "execution_count": 7,
   "metadata": {},
   "outputs": [
    {
     "name": "stdout",
     "output_type": "stream",
     "text": [
      "Tempo de Execução:  21.573301076889038\n",
      "memory peak:  141064\n",
      "Acc:  0.9944401359358663\n",
      "Macro-f1:  0.9944736726335593\n",
      "MCC:  0.9889515118900145\n",
      "Desvio Padrão:  0.017381737223865445\n",
      "Numero de atualizações:  249\n"
     ]
    }
   ],
   "source": [
    "k = 7\n",
    "    \n",
    "start = time.time()\n",
    "\n",
    "predicted, updt4 = hs.handshake2(dataset, data_labeled, dataset_train, l_train, stream, l_stream, n_components, n_features, epsilon, percent, k)\n",
    "\n",
    "end = time.time()\n",
    "mem4 = resource.getrusage(resource.RUSAGE_SELF).ru_maxrss\n",
    "tempo4 = end - start\n",
    "\n",
    "acc_percent4, f1_per4, mcc_per4 = metrics.makeBatches(l_stream, predicted, len(stream), step)\n",
    "score4, f14, mcc4, std4 = metrics.metrics(acc_percent4, l_stream, predicted, step, f1_type = 'macro')\n",
    "\n",
    "print('Tempo de Execução: ', tempo4)\n",
    "print('memory peak: ', mem4)\n",
    "print('Acc: ', score4)\n",
    "print('Macro-f1: ', f14)\n",
    "print('MCC: ', mcc4)\n",
    "print('Desvio Padrão: ', std4)\n",
    "print('Numero de atualizações: ', updt4)\n",
    "# plots.plotAcc(acc_percent4, 100, '1CDT_Handshake')\n",
    "# plots.plotF1(f1_per4, 100, '1CDT_Handshake')\n",
    "\n",
    "# plots.plotPerBatches(stream, predicted, l_stream, len(stream), step)"
   ]
  },
  {
   "cell_type": "code",
   "execution_count": 8,
   "metadata": {},
   "outputs": [
    {
     "ename": "NameError",
     "evalue": "name 'tempo1' is not defined",
     "output_type": "error",
     "traceback": [
      "\u001b[0;31m---------------------------------------------------------------------------\u001b[0m",
      "\u001b[0;31mNameError\u001b[0m                                 Traceback (most recent call last)",
      "\u001b[0;32m<ipython-input-8-a7e0b71c7d04>\u001b[0m in \u001b[0;36m<module>\u001b[0;34m()\u001b[0m\n\u001b[0;32m----> 1\u001b[0;31m \u001b[0mlistTime\u001b[0m \u001b[0;34m=\u001b[0m \u001b[0;34m[\u001b[0m\u001b[0mtempo1\u001b[0m\u001b[0;34m,\u001b[0m \u001b[0mtempo2\u001b[0m\u001b[0;34m,\u001b[0m \u001b[0mtempo3\u001b[0m\u001b[0;34m,\u001b[0m \u001b[0mtempo4\u001b[0m\u001b[0;34m]\u001b[0m\u001b[0;34m\u001b[0m\u001b[0m\n\u001b[0m\u001b[1;32m      2\u001b[0m \u001b[0mlistAcc\u001b[0m \u001b[0;34m=\u001b[0m \u001b[0;34m[\u001b[0m\u001b[0mscore1\u001b[0m\u001b[0;34m,\u001b[0m \u001b[0mscore2\u001b[0m\u001b[0;34m,\u001b[0m \u001b[0mscore3\u001b[0m\u001b[0;34m,\u001b[0m \u001b[0mscore4\u001b[0m\u001b[0;34m]\u001b[0m\u001b[0;34m\u001b[0m\u001b[0m\n\u001b[1;32m      3\u001b[0m \u001b[0mlistMethod\u001b[0m \u001b[0;34m=\u001b[0m \u001b[0;34m[\u001b[0m\u001b[0;34m'Handshake50'\u001b[0m\u001b[0;34m,\u001b[0m \u001b[0;34m'Handshake25'\u001b[0m\u001b[0;34m,\u001b[0m \u001b[0;34m'Handshake12'\u001b[0m\u001b[0;34m,\u001b[0m \u001b[0;34m'Handshake7'\u001b[0m\u001b[0;34m]\u001b[0m\u001b[0;34m\u001b[0m\u001b[0m\n\u001b[1;32m      4\u001b[0m \u001b[0mmatrixAcc\u001b[0m \u001b[0;34m=\u001b[0m \u001b[0;34m[\u001b[0m\u001b[0macc_percent1\u001b[0m\u001b[0;34m[\u001b[0m\u001b[0;36m0\u001b[0m\u001b[0;34m]\u001b[0m\u001b[0;34m,\u001b[0m \u001b[0macc_percent2\u001b[0m\u001b[0;34m[\u001b[0m\u001b[0;36m0\u001b[0m\u001b[0;34m]\u001b[0m\u001b[0;34m,\u001b[0m \u001b[0macc_percent3\u001b[0m\u001b[0;34m[\u001b[0m\u001b[0;36m0\u001b[0m\u001b[0;34m]\u001b[0m\u001b[0;34m,\u001b[0m \u001b[0macc_percent4\u001b[0m\u001b[0;34m[\u001b[0m\u001b[0;36m0\u001b[0m\u001b[0;34m]\u001b[0m\u001b[0;34m]\u001b[0m\u001b[0;34m\u001b[0m\u001b[0m\n\u001b[1;32m      5\u001b[0m \u001b[0mmatrixF1\u001b[0m \u001b[0;34m=\u001b[0m \u001b[0;34m[\u001b[0m\u001b[0mf1_per1\u001b[0m\u001b[0;34m[\u001b[0m\u001b[0;36m0\u001b[0m\u001b[0;34m]\u001b[0m\u001b[0;34m,\u001b[0m \u001b[0mf1_per2\u001b[0m\u001b[0;34m[\u001b[0m\u001b[0;36m0\u001b[0m\u001b[0;34m]\u001b[0m\u001b[0;34m,\u001b[0m \u001b[0mf1_per3\u001b[0m\u001b[0;34m[\u001b[0m\u001b[0;36m0\u001b[0m\u001b[0;34m]\u001b[0m\u001b[0;34m,\u001b[0m \u001b[0mf1_per4\u001b[0m\u001b[0;34m[\u001b[0m\u001b[0;36m0\u001b[0m\u001b[0;34m]\u001b[0m\u001b[0;34m]\u001b[0m\u001b[0;34m\u001b[0m\u001b[0m\n",
      "\u001b[0;31mNameError\u001b[0m: name 'tempo1' is not defined"
     ]
    }
   ],
   "source": [
    "listTime = [tempo1, tempo2, tempo3, tempo4]\n",
    "listAcc = [score1, score2, score3, score4]\n",
    "listMethod = ['Handshake50', 'Handshake25', 'Handshake12', 'Handshake7']\n",
    "matrixAcc = [acc_percent1[0], acc_percent2[0], acc_percent3[0], acc_percent4[0]]\n",
    "matrixF1 = [f1_per1[0], f1_per2[0], f1_per3[0], f1_per4[0]]\n",
    "\n"
   ]
  },
  {
   "cell_type": "code",
   "execution_count": null,
   "metadata": {},
   "outputs": [],
   "source": [
    "plots.plotTime(listTime, listMethod)\n",
    "plots.plotAverageAcc(listAcc, listMethod)\n",
    "plots.plotAccuracyCurves(matrixAcc, listMethod, step)\n",
    "plots.plotBoxplot('acc', matrixAcc, listMethod)\n",
    "plots.plotBoxplot('f1', matrixF1, listMethod)"
   ]
  },
  {
   "cell_type": "code",
   "execution_count": null,
   "metadata": {},
   "outputs": [],
   "source": []
  }
 ],
 "metadata": {
  "kernelspec": {
   "display_name": "Python 3",
   "language": "python",
   "name": "python3"
  },
  "language_info": {
   "codemirror_mode": {
    "name": "ipython",
    "version": 3
   },
   "file_extension": ".py",
   "mimetype": "text/x-python",
   "name": "python",
   "nbconvert_exporter": "python",
   "pygments_lexer": "ipython3",
   "version": "3.6.5"
  }
 },
 "nbformat": 4,
 "nbformat_minor": 2
}
