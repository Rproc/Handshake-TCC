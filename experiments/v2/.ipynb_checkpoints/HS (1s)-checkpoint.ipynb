{
 "cells": [
  {
   "cell_type": "code",
   "execution_count": 1,
   "metadata": {},
   "outputs": [],
   "source": [
    "from source.util import utils as u\n",
    "from source import metrics, plots\n",
    "from source import handshake, handshake2, scargc, hs\n",
    "import sys\n",
    "import time\n",
    "import os\n",
    "import psutil\n",
    "import resource\n",
    "import numpy as np\n",
    "from sklearn.metrics import accuracy_score, matthews_corrcoef, f1_score"
   ]
  },
  {
   "cell_type": "code",
   "execution_count": 2,
   "metadata": {},
   "outputs": [],
   "source": [
    "def doTrain(data, label, step, n_features, percent, epsilon, n_components, k):\n",
    "\n",
    "    label_ = label\n",
    "    data = np.vsplit(data, 10)\n",
    "    label = u.chunkify(label, 10)\n",
    "\n",
    "    # print(len(data))\n",
    "    # print(len(label))\n",
    "\n",
    "    # percent = int(percent)\n",
    "    # print(percent)\n",
    "    # print(epsilon)\n",
    "    acc_percent = []\n",
    "    f1_percent = []\n",
    "    mcc_percent = []\n",
    "    predicted = []\n",
    "    updt = []\n",
    "    pool_size = int( len(data[0])/100 * percent )\n",
    "    score = 0.0\n",
    "    f1 = 0.0\n",
    "    mcc = 0.0\n",
    "    \n",
    "    if pool_size >= k:\n",
    "        pred, updt, gmm = hs.handshake2(data, label_, data[0], label[0], data[1], label[1], n_components, n_features, epsilon, percent, k)\n",
    "        pred = np.array(pred, dtype=int)\n",
    "        # print(label[i])\n",
    "        pred = pred.flatten()\n",
    "        predicted = pred\n",
    "        acc_percent, f1_percent, mcc_percent = metrics.makeBatches(label[0], predicted, len(label[0]), step)\n",
    "\n",
    "        # print(acc_percent, f1_percent, mcc_percent)\n",
    "        # sys.exit(0)\n",
    "\n",
    "        for i in range(1, len(data)-1):\n",
    "            # print(i)\n",
    "            pred, upd, gmm = hs.handshake2(data, label_, data[i], label[i], data[i+1], label[i+1], n_components, n_features, epsilon, percent, k)\n",
    "            pred = np.array(pred, dtype=int)\n",
    "            # print(label[i])\n",
    "            pred = pred.flatten()\n",
    "\n",
    "            # print(pred)\n",
    "            acc, f1, mcc = metrics.makeBatches(label[i], pred, len(label[i]), step)\n",
    "\n",
    "            predicted = np.vstack([predicted, pred])\n",
    "            # print(predicted)\n",
    "            # sys.exit(0)\n",
    "\n",
    "            updt += upd\n",
    "            acc_percent = np.vstack([acc_percent, acc])\n",
    "            f1_percent = np.vstack([f1_percent, f1])\n",
    "            mcc_percent = np.vstack([mcc_percent, mcc])\n",
    "\n",
    "\n",
    "        # print(acc_percent)\n",
    "\n",
    "        predicted = predicted.flatten()\n",
    "        lab = label_[tam:]\n",
    "\n",
    "#         tam = len(label_[0])\n",
    "#         lab = label_[tam:]\n",
    "#         lab = label_[len(label[0]):]\n",
    "\n",
    "\n",
    "        score = accuracy_score(lab, predicted)\n",
    "        f1 = f1_score(lab, predicted, average = 'macro')\n",
    "        mcc = matthews_corrcoef(lab, predicted)\n",
    "        # score, f1, mcc = metrics.metrics(acc_percent, lab, predicted, step, f1_type = 'macro')\n",
    "        # print(a,score, f1, mcc)\n",
    "    return score, f1, mcc"
   ]
  },
  {
   "cell_type": "code",
   "execution_count": 3,
   "metadata": {},
   "outputs": [],
   "source": [
    "poolsize = 300\n",
    "clusters = 2\n",
    "n_components = 2\n",
    "# episilon = 0.15\n",
    "step = 10"
   ]
  },
  {
   "cell_type": "code",
   "execution_count": 4,
   "metadata": {},
   "outputs": [],
   "source": [
    "base = '/home/god/Documentos/tcc/datasets/'\n",
    "list = ['1CDT.txt', '1CHT.txt']# '1CSurr.txt', '2CDT.txt', '2CHT.txt']# 'NOAA.txt', 'elec.txt', 'keystroke.txt']\n",
    "# list = ['keystroke.txt']\n",
    "# list = ['NOAA.txt']#, 'elec.txt']\n",
    "database = {}\n",
    "\n",
    "for i in range(0, len(list)):\n",
    "    database[i] = base + list[i]\n",
    "\n",
    "array_ep = [0.05, 0.10, 0.15]\n",
    "# array_ep = [0.1]\n",
    "array_p = [10, 20, 30]\n",
    "# array_p = [30]\n",
    "array_k = [50, 25, 12, 7, 5, 3, 1]\n",
    "\n",
    "result = [0.0, 0.0, 0.0]\n",
    "aux = []\n",
    "result = np.array(result, dtype=float)\n",
    "\n",
    "dic = {}"
   ]
  },
  {
   "cell_type": "code",
   "execution_count": 5,
   "metadata": {},
   "outputs": [
    {
     "name": "stderr",
     "output_type": "stream",
     "text": [
      "/home/god/anaconda3/lib/python3.6/site-packages/sklearn/metrics/classification.py:1135: UndefinedMetricWarning: F-score is ill-defined and being set to 0.0 in labels with no predicted samples.\n",
      "  'precision', 'predicted', average, warn_for)\n",
      "/home/god/anaconda3/lib/python3.6/site-packages/sklearn/metrics/classification.py:538: RuntimeWarning: invalid value encountered in double_scalars\n",
      "  mcc = cov_ytyp / np.sqrt(cov_ytyt * cov_ypyp)\n"
     ]
    },
    {
     "ename": "TypeError",
     "evalue": "object of type 'numpy.int64' has no len()",
     "output_type": "error",
     "traceback": [
      "\u001b[0;31m---------------------------------------------------------------------------\u001b[0m",
      "\u001b[0;31mTypeError\u001b[0m                                 Traceback (most recent call last)",
      "\u001b[0;32m<ipython-input-5-629426ff5b36>\u001b[0m in \u001b[0;36m<module>\u001b[0;34m()\u001b[0m\n\u001b[1;32m      9\u001b[0m                 \u001b[0mdataset\u001b[0m\u001b[0;34m,\u001b[0m \u001b[0mdata_labeled\u001b[0m\u001b[0;34m,\u001b[0m \u001b[0mdataset_train\u001b[0m\u001b[0;34m,\u001b[0m \u001b[0ml_train\u001b[0m\u001b[0;34m,\u001b[0m \u001b[0mstream\u001b[0m\u001b[0;34m,\u001b[0m \u001b[0ml_stream\u001b[0m\u001b[0;34m,\u001b[0m \u001b[0mn_features\u001b[0m \u001b[0;34m=\u001b[0m \u001b[0mu\u001b[0m\u001b[0;34m.\u001b[0m\u001b[0mcriar_datasets\u001b[0m\u001b[0;34m(\u001b[0m\u001b[0;36m5\u001b[0m\u001b[0;34m,\u001b[0m \u001b[0madr\u001b[0m\u001b[0;34m)\u001b[0m\u001b[0;34m\u001b[0m\u001b[0m\n\u001b[1;32m     10\u001b[0m \u001b[0;34m\u001b[0m\u001b[0m\n\u001b[0;32m---> 11\u001b[0;31m                 \u001b[0mscore\u001b[0m\u001b[0;34m,\u001b[0m \u001b[0mf1\u001b[0m\u001b[0;34m,\u001b[0m \u001b[0mmcc\u001b[0m \u001b[0;34m=\u001b[0m \u001b[0mdoTrain\u001b[0m\u001b[0;34m(\u001b[0m\u001b[0mdataset_train\u001b[0m\u001b[0;34m,\u001b[0m \u001b[0ml_train\u001b[0m\u001b[0;34m,\u001b[0m \u001b[0mstep\u001b[0m\u001b[0;34m,\u001b[0m \u001b[0mn_features\u001b[0m\u001b[0;34m,\u001b[0m \u001b[0marray_p\u001b[0m\u001b[0;34m[\u001b[0m\u001b[0mp\u001b[0m\u001b[0;34m]\u001b[0m\u001b[0;34m,\u001b[0m \u001b[0marray_ep\u001b[0m\u001b[0;34m[\u001b[0m\u001b[0mep\u001b[0m\u001b[0;34m]\u001b[0m\u001b[0;34m,\u001b[0m \u001b[0mn_components\u001b[0m\u001b[0;34m,\u001b[0m \u001b[0marray_k\u001b[0m\u001b[0;34m[\u001b[0m\u001b[0mk\u001b[0m\u001b[0;34m]\u001b[0m\u001b[0;34m)\u001b[0m\u001b[0;34m\u001b[0m\u001b[0m\n\u001b[0m\u001b[1;32m     12\u001b[0m \u001b[0;34m\u001b[0m\u001b[0m\n\u001b[1;32m     13\u001b[0m                 \u001b[0maux\u001b[0m \u001b[0;34m=\u001b[0m \u001b[0mnp\u001b[0m\u001b[0;34m.\u001b[0m\u001b[0mhstack\u001b[0m\u001b[0;34m(\u001b[0m\u001b[0;34m[\u001b[0m\u001b[0mscore\u001b[0m\u001b[0;34m,\u001b[0m \u001b[0mf1\u001b[0m\u001b[0;34m,\u001b[0m \u001b[0mmcc\u001b[0m\u001b[0;34m]\u001b[0m\u001b[0;34m)\u001b[0m\u001b[0;34m\u001b[0m\u001b[0m\n",
      "\u001b[0;32m<ipython-input-2-ea9b67543089>\u001b[0m in \u001b[0;36mdoTrain\u001b[0;34m(data, label, step, n_features, percent, epsilon, n_components, k)\u001b[0m\n\u001b[1;32m     55\u001b[0m \u001b[0;34m\u001b[0m\u001b[0m\n\u001b[1;32m     56\u001b[0m         \u001b[0mpredicted\u001b[0m \u001b[0;34m=\u001b[0m \u001b[0mpredicted\u001b[0m\u001b[0;34m.\u001b[0m\u001b[0mflatten\u001b[0m\u001b[0;34m(\u001b[0m\u001b[0;34m)\u001b[0m\u001b[0;34m\u001b[0m\u001b[0m\n\u001b[0;32m---> 57\u001b[0;31m         \u001b[0mtam\u001b[0m \u001b[0;34m=\u001b[0m \u001b[0mlen\u001b[0m\u001b[0;34m(\u001b[0m\u001b[0mlabel_\u001b[0m\u001b[0;34m[\u001b[0m\u001b[0;36m0\u001b[0m\u001b[0;34m]\u001b[0m\u001b[0;34m)\u001b[0m\u001b[0;34m\u001b[0m\u001b[0m\n\u001b[0m\u001b[1;32m     58\u001b[0m         \u001b[0mlab\u001b[0m \u001b[0;34m=\u001b[0m \u001b[0mlabel_\u001b[0m\u001b[0;34m[\u001b[0m\u001b[0mtam\u001b[0m\u001b[0;34m:\u001b[0m\u001b[0;34m]\u001b[0m\u001b[0;34m\u001b[0m\u001b[0m\n\u001b[1;32m     59\u001b[0m \u001b[0;34m\u001b[0m\u001b[0m\n",
      "\u001b[0;31mTypeError\u001b[0m: object of type 'numpy.int64' has no len()"
     ]
    }
   ],
   "source": [
    "dic = {}\n",
    "for key, value in database.items():\n",
    "    dic[int(key)] = {}\n",
    "    for ep in range(0, len(array_ep)):\n",
    "        for p in range(0, len(array_p)):\n",
    "            for k in range(0, len(array_k)):\n",
    "\n",
    "                adr = value\n",
    "                dataset, data_labeled, dataset_train, l_train, stream, l_stream, n_features = u.criar_datasets(5, adr)\n",
    "\n",
    "                score, f1, mcc = doTrain(dataset_train, l_train, step, n_features, array_p[p], array_ep[ep], n_components, array_k[k])\n",
    "\n",
    "                aux = np.hstack([score, f1, mcc])\n",
    "                result = np.vstack([result, aux])\n",
    "\n",
    "                a = str(array_ep[ep])\n",
    "                b = str(array_p[p])\n",
    "                c = str(array_k[k])\n",
    "                name = a +' / '+ b + ' / ' + c\n",
    "                dic[int(key)][name] = aux"
   ]
  },
  {
   "cell_type": "code",
   "execution_count": null,
   "metadata": {},
   "outputs": [],
   "source": [
    "for p_id, p_info in dic.items():\n",
    "    print('dataset :', p_id)\n",
    "    for key in p_info:\n",
    "        print(key, ':', p_info[key])"
   ]
  },
  {
   "cell_type": "code",
   "execution_count": null,
   "metadata": {},
   "outputs": [],
   "source": []
  }
 ],
 "metadata": {
  "kernelspec": {
   "display_name": "Python 3",
   "language": "python",
   "name": "python3"
  },
  "language_info": {
   "codemirror_mode": {
    "name": "ipython",
    "version": 3
   },
   "file_extension": ".py",
   "mimetype": "text/x-python",
   "name": "python",
   "nbconvert_exporter": "python",
   "pygments_lexer": "ipython3",
   "version": "3.6.5"
  }
 },
 "nbformat": 4,
 "nbformat_minor": 2
}
