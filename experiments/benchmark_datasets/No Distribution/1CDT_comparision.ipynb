{
 "cells": [
  {
   "cell_type": "code",
   "execution_count": 1,
   "metadata": {},
   "outputs": [
    {
     "ename": "ModuleNotFoundError",
     "evalue": "No module named 'source'",
     "output_type": "error",
     "traceback": [
      "\u001b[0;31m---------------------------------------------------------------------------\u001b[0m",
      "\u001b[0;31mModuleNotFoundError\u001b[0m                       Traceback (most recent call last)",
      "\u001b[0;32m<ipython-input-1-b1d28c712f1d>\u001b[0m in \u001b[0;36m<module>\u001b[0;34m\u001b[0m\n\u001b[0;32m----> 1\u001b[0;31m \u001b[0;32mfrom\u001b[0m \u001b[0msource\u001b[0m\u001b[0;34m.\u001b[0m\u001b[0mutil\u001b[0m \u001b[0;32mimport\u001b[0m \u001b[0mutils\u001b[0m \u001b[0;32mas\u001b[0m \u001b[0mu\u001b[0m\u001b[0;34m\u001b[0m\u001b[0m\n\u001b[0m\u001b[1;32m      2\u001b[0m \u001b[0;32mfrom\u001b[0m \u001b[0msource\u001b[0m \u001b[0;32mimport\u001b[0m \u001b[0mmetrics\u001b[0m\u001b[0;34m,\u001b[0m \u001b[0mplots\u001b[0m\u001b[0;34m\u001b[0m\u001b[0m\n\u001b[1;32m      3\u001b[0m \u001b[0;32mfrom\u001b[0m \u001b[0msource\u001b[0m \u001b[0;32mimport\u001b[0m \u001b[0mhandshake2\u001b[0m\u001b[0;34m,\u001b[0m \u001b[0mscargc\u001b[0m\u001b[0;34m,\u001b[0m \u001b[0mhs\u001b[0m\u001b[0;34m\u001b[0m\u001b[0m\n\u001b[1;32m      4\u001b[0m \u001b[0;32mimport\u001b[0m \u001b[0msys\u001b[0m\u001b[0;34m\u001b[0m\u001b[0m\n\u001b[1;32m      5\u001b[0m \u001b[0;32mimport\u001b[0m \u001b[0mtime\u001b[0m\u001b[0;34m\u001b[0m\u001b[0m\n",
      "\u001b[0;31mModuleNotFoundError\u001b[0m: No module named 'source'"
     ]
    }
   ],
   "source": [
    "from source.util import utils as u\n",
    "from source import metrics, plots\n",
    "from source import handshake2, scargc, hs\n",
    "import sys\n",
    "import time\n",
    "import os\n",
    "import psutil\n",
    "import resource"
   ]
  },
  {
   "cell_type": "code",
   "execution_count": null,
   "metadata": {},
   "outputs": [],
   "source": [
    "poolsize = 150\n",
    "clusters = 2\n",
    "n_components = 2\n",
    "epsilon = 0.1\n",
    "percent = 30"
   ]
  },
  {
   "cell_type": "code",
   "execution_count": null,
   "metadata": {},
   "outputs": [],
   "source": [
    "base = '/home/localuser/Documentos/procopio/tcc/datasets/1CDT.txt'\n",
    "dataset, data_labeled, dataset_train, l_train, stream, l_stream, n_features = u.criar_datasets(5, base)\n"
   ]
  },
  {
   "cell_type": "markdown",
   "metadata": {},
   "source": [
    "Handshake"
   ]
  },
  {
   "cell_type": "code",
   "execution_count": null,
   "metadata": {},
   "outputs": [],
   "source": [
    "start = time.time()\n",
    "\n",
    "predicted, updt = handshake2.handshake2(dataset, data_labeled, dataset_train, l_train, stream, l_stream, n_components, n_features, epsilon, percent)\n",
    "\n",
    "end = time.time()\n",
    "mem = resource.getrusage(resource.RUSAGE_SELF).ru_maxrss\n",
    "tempo = end - start"
   ]
  },
  {
   "cell_type": "markdown",
   "metadata": {},
   "source": [
    "SCARGC"
   ]
  },
  {
   "cell_type": "code",
   "execution_count": null,
   "metadata": {},
   "outputs": [],
   "source": [
    "startScargc = time.time()\n",
    "\n",
    "predictedS, updtS = scargc.scargc_1NN(dataset, data_labeled, dataset_train, l_train, stream, l_stream, poolsize, clusters, n_features)\n",
    "\n",
    "endScargc = time.time()\n",
    "memS = resource.getrusage(resource.RUSAGE_SELF).ru_maxrss\n",
    "tempoS = endScargc - startScargc"
   ]
  },
  {
   "cell_type": "code",
   "execution_count": null,
   "metadata": {},
   "outputs": [],
   "source": [
    "acc_percent = metrics.makeBatches(l_stream, predicted, len(stream))\n",
    "score, f1, mcc, std = metrics.metrics(acc_percent, l_stream, predicted, f1_type = 'macro')\n",
    "\n",
    "acc_percentScargc = metrics.makeBatches(l_stream, predictedS, len(stream))\n",
    "scoreS, f1S, mccS, stdS = metrics.metrics(acc_percentScargc, l_stream, predictedS, f1_type = 'macro')"
   ]
  },
  {
   "cell_type": "code",
   "execution_count": null,
   "metadata": {},
   "outputs": [],
   "source": [
    "print('Tempo de Execução: ', tempo)\n",
    "print('memory peak: ', mem)\n",
    "print('Acc: ', score)\n",
    "print('Macro-F1: ', f1)\n",
    "print('MCC: ', mcc)\n",
    "print('Desvio Padrão: ', std)\n",
    "print('Numero de atualizações: ', updt)\n",
    "plots.plotAcc(acc_percent, 100, '1CDT_Handshake')\n",
    "\n",
    "print('Tempo de Execução: ', tempoS)\n",
    "print('memory peak: ', memS)\n",
    "print('Acc: ', scoreS)\n",
    "print('Macro-F1: ', f1S)\n",
    "print('MCC: ', mccS)\n",
    "print('Desvio Padrão: ', stdS)\n",
    "print('Numero de atualizações: ', updtS)\n",
    "plots.plotAcc(acc_percentScargc, 100, '1CDT_SCARGC')\n",
    "\n",
    "listTime = [tempo, tempoS]\n",
    "listMethod = ['Handshake', 'SCARGC']\n",
    "\n",
    "plots.plotTime(listTime, listMethod)"
   ]
  },
  {
   "cell_type": "code",
   "execution_count": null,
   "metadata": {},
   "outputs": [],
   "source": []
  }
 ],
 "metadata": {
  "kernelspec": {
   "display_name": "Python 3",
   "language": "python",
   "name": "python3"
  },
  "language_info": {
   "codemirror_mode": {
    "name": "ipython",
    "version": 3
   },
   "file_extension": ".py",
   "mimetype": "text/x-python",
   "name": "python",
   "nbconvert_exporter": "python",
   "pygments_lexer": "ipython3",
   "version": "3.7.0"
  }
 },
 "nbformat": 4,
 "nbformat_minor": 2
}
